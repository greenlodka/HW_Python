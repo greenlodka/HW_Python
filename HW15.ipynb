{
  "nbformat": 4,
  "nbformat_minor": 0,
  "metadata": {
    "kernelspec": {
      "display_name": "Python 3",
      "language": "python",
      "name": "python3"
    },
    "language_info": {
      "codemirror_mode": {
        "name": "ipython",
        "version": 3
      },
      "file_extension": ".py",
      "mimetype": "text/x-python",
      "name": "python",
      "nbconvert_exporter": "python",
      "pygments_lexer": "ipython3",
      "version": "3.8.3"
    },
    "colab": {
      "name": "HW15.ipynb",
      "provenance": [],
      "collapsed_sections": [],
      "include_colab_link": true
    }
  },
  "cells": [
    {
      "cell_type": "markdown",
      "metadata": {
        "id": "view-in-github",
        "colab_type": "text"
      },
      "source": [
        "<a href=\"https://colab.research.google.com/github/greenlodka/HW_Python/blob/master/HW15.ipynb\" target=\"_parent\"><img src=\"https://colab.research.google.com/assets/colab-badge.svg\" alt=\"Open In Colab\"/></a>"
      ]
    },
    {
      "cell_type": "code",
      "metadata": {
        "colab": {
          "base_uri": "https://localhost:8080/"
        },
        "id": "iaCmaV9186os",
        "outputId": "e7bc2f84-efdc-4896-df90-bcac8105a84f"
      },
      "source": [
        "!pip install ipymarkup\n",
        "!pip install transformers"
      ],
      "execution_count": null,
      "outputs": [
        {
          "output_type": "stream",
          "text": [
            "Requirement already satisfied: ipymarkup in /usr/local/lib/python3.7/dist-packages (0.9.0)\n",
            "Requirement already satisfied: intervaltree>=3 in /usr/local/lib/python3.7/dist-packages (from ipymarkup) (3.1.0)\n",
            "Requirement already satisfied: sortedcontainers<3.0,>=2.0 in /usr/local/lib/python3.7/dist-packages (from intervaltree>=3->ipymarkup) (2.4.0)\n",
            "Requirement already satisfied: transformers in /usr/local/lib/python3.7/dist-packages (4.8.1)\n",
            "Requirement already satisfied: tqdm>=4.27 in /usr/local/lib/python3.7/dist-packages (from transformers) (4.41.1)\n",
            "Requirement already satisfied: regex!=2019.12.17 in /usr/local/lib/python3.7/dist-packages (from transformers) (2019.12.20)\n",
            "Requirement already satisfied: pyyaml in /usr/local/lib/python3.7/dist-packages (from transformers) (3.13)\n",
            "Requirement already satisfied: numpy>=1.17 in /usr/local/lib/python3.7/dist-packages (from transformers) (1.19.5)\n",
            "Requirement already satisfied: requests in /usr/local/lib/python3.7/dist-packages (from transformers) (2.23.0)\n",
            "Requirement already satisfied: tokenizers<0.11,>=0.10.1 in /usr/local/lib/python3.7/dist-packages (from transformers) (0.10.3)\n",
            "Requirement already satisfied: importlib-metadata; python_version < \"3.8\" in /usr/local/lib/python3.7/dist-packages (from transformers) (4.5.0)\n",
            "Requirement already satisfied: packaging in /usr/local/lib/python3.7/dist-packages (from transformers) (20.9)\n",
            "Requirement already satisfied: huggingface-hub==0.0.12 in /usr/local/lib/python3.7/dist-packages (from transformers) (0.0.12)\n",
            "Requirement already satisfied: filelock in /usr/local/lib/python3.7/dist-packages (from transformers) (3.0.12)\n",
            "Requirement already satisfied: sacremoses in /usr/local/lib/python3.7/dist-packages (from transformers) (0.0.45)\n",
            "Requirement already satisfied: idna<3,>=2.5 in /usr/local/lib/python3.7/dist-packages (from requests->transformers) (2.10)\n",
            "Requirement already satisfied: certifi>=2017.4.17 in /usr/local/lib/python3.7/dist-packages (from requests->transformers) (2021.5.30)\n",
            "Requirement already satisfied: urllib3!=1.25.0,!=1.25.1,<1.26,>=1.21.1 in /usr/local/lib/python3.7/dist-packages (from requests->transformers) (1.24.3)\n",
            "Requirement already satisfied: chardet<4,>=3.0.2 in /usr/local/lib/python3.7/dist-packages (from requests->transformers) (3.0.4)\n",
            "Requirement already satisfied: zipp>=0.5 in /usr/local/lib/python3.7/dist-packages (from importlib-metadata; python_version < \"3.8\"->transformers) (3.4.1)\n",
            "Requirement already satisfied: typing-extensions>=3.6.4; python_version < \"3.8\" in /usr/local/lib/python3.7/dist-packages (from importlib-metadata; python_version < \"3.8\"->transformers) (3.7.4.3)\n",
            "Requirement already satisfied: pyparsing>=2.0.2 in /usr/local/lib/python3.7/dist-packages (from packaging->transformers) (2.4.7)\n",
            "Requirement already satisfied: six in /usr/local/lib/python3.7/dist-packages (from sacremoses->transformers) (1.15.0)\n",
            "Requirement already satisfied: joblib in /usr/local/lib/python3.7/dist-packages (from sacremoses->transformers) (1.0.1)\n",
            "Requirement already satisfied: click in /usr/local/lib/python3.7/dist-packages (from sacremoses->transformers) (7.1.2)\n"
          ],
          "name": "stdout"
        }
      ]
    },
    {
      "cell_type": "code",
      "metadata": {
        "colab": {
          "base_uri": "https://localhost:8080/"
        },
        "id": "DnliRHNc86o7",
        "outputId": "38d88a3e-5691-450e-b68b-8fbe4d4fc4da"
      },
      "source": [
        "!wget https://russiansuperglue.com/tasks/download/TERRA"
      ],
      "execution_count": null,
      "outputs": [
        {
          "output_type": "stream",
          "text": [
            "--2021-06-26 20:38:18--  https://russiansuperglue.com/tasks/download/TERRA\n",
            "Resolving russiansuperglue.com (russiansuperglue.com)... 37.18.107.48\n",
            "Connecting to russiansuperglue.com (russiansuperglue.com)|37.18.107.48|:443... connected.\n",
            "HTTP request sent, awaiting response... 500 Internal Server Error\n",
            "2021-06-26 20:38:18 ERROR 500: Internal Server Error.\n",
            "\n"
          ],
          "name": "stdout"
        }
      ]
    },
    {
      "cell_type": "code",
      "metadata": {
        "colab": {
          "base_uri": "https://localhost:8080/"
        },
        "id": "0Hbu9kOnCWV8",
        "outputId": "a67daa5b-9c4e-4e86-ec3a-fcb46cd4dbf6"
      },
      "source": [
        "from google.colab import drive\n",
        "drive.mount('/content/drive')"
      ],
      "execution_count": null,
      "outputs": [
        {
          "output_type": "stream",
          "text": [
            "Drive already mounted at /content/drive; to attempt to forcibly remount, call drive.mount(\"/content/drive\", force_remount=True).\n"
          ],
          "name": "stdout"
        }
      ]
    },
    {
      "cell_type": "code",
      "metadata": {
        "colab": {
          "base_uri": "https://localhost:8080/"
        },
        "id": "DJVhD8PB9-K0",
        "outputId": "6060d109-22f5-4459-8ae4-c898a5c464f4"
      },
      "source": [
        "!head drive/MyDrive/TERRa/train.jsonl"
      ],
      "execution_count": 38,
      "outputs": [
        {
          "output_type": "stream",
          "text": [
            "{\"premise\": \"Женщину доставили в больницу, за ее жизнь сейчас борются врачи.\", \"hypothesis\": \"Женщину спасают врачи.\", \"label\": \"entailment\", \"idx\": 0}\r\n",
            "{\"premise\": \"Он проводит невидимую грань между настоящим и будущим. В эти минуты все мы подводим главные итоги года, вспоминаем самые важные события. В эти мгновения мы с волнением ждем добрых перемен.\", \"hypothesis\": \"В эти минуты все мы подводим друг друга.\", \"label\": \"not_entailment\", \"idx\": 1}\r\n",
            "{\"premise\": \"Мужчина рассказал: детская коляска, принадлежащая его семье, пропала прямо из подъезда. Как выяснили полицейские, коляску украл сосед мужчины. Он был пьян, и ему нужны были деньги.\", \"hypothesis\": \"Сосед часто крадет детские коляски ради денег.\", \"label\": \"not_entailment\", \"idx\": 2}\r\n",
            "{\"premise\": \"Я просто об этом даже не думаю, потому что если кто-то что-то захочет, никуда не спрячешься.\", \"hypothesis\": \"Спрятаться не удастся.\", \"label\": \"entailment\", \"idx\": 3}\r\n",
            "{\"premise\": \"В ходе проверки нашли дома с наледью и сосульками на крышах. Информацию о них передали коммунальщикам. Во избежание несчастных случаев спасатели рекомендуют гражданам быть осторожней, а коммунальщикам – оперативней, при выходе из зданий советуют смотреть на крыши и, по возможности, обходить края зданий.\", \"hypothesis\": \"Все сосульки с крыш были сбиты.\", \"label\": \"not_entailment\", \"idx\": 4}\r\n",
            "{\"premise\": \"Автор поста написал в комментарии, что прорвалась канализация.\", \"hypothesis\": \"Автор поста написал про канализацию.\", \"label\": \"entailment\", \"idx\": 5}\r\n",
            "{\"premise\": \"\\\"В свою очередь Владимир Путин в ходе совещания сообщил, что необходимо понимать, с какими поставщиками работают предприятия, которые дают окончательную продукцию. \\\"\\\"Там десятки тысяч поставщиков, но нам нужно понимать, что это за поставщики, чтобы это были те предприятия, которые в состоянии решать соответствующие проблемы, чтобы нам была понятна их рентабельность, чтобы распределение прибыли было понятным и прозрачным\\\"\\\", - сказал премьер. По его словам, это необходимо, потому что когда неизвестны все схемы поставщиков, министерству обороны практически невозможно разобраться в конечной цене продукции.\\\"\", \"hypothesis\": \"Путин хочет понятности и прозрачности в распределении прибыли у поставщиков оборонных предприятий.\", \"label\": \"entailment\", \"idx\": 6}\r\n",
            "{\"premise\": \"Ходатайство о продлении заявила адвокат задержанной, отметив, что следствием не были предоставлены документы, характеризующие личность задержанной.\", \"hypothesis\": \"Адвокат задержанной отметила отличную работу следствия.\", \"label\": \"not_entailment\", \"idx\": 7}\r\n",
            "{\"premise\": \"\\\"Возраст людей определить не смог. Их лица были закрыты капюшонами, - рассказал журналисту \\\"\\\"Комсомольской правды\\\"\\\"-Саратов один из автолюбителей, проезжавших на мосту. - Со стороны обоих городов образовалась пробка, так как прибывшие машины спасателей и полиции перегородили полосу движения.\\\"\", \"hypothesis\": \"Люди прятали лица под капюшонами.\", \"label\": \"entailment\", \"idx\": 8}\r\n",
            "{\"premise\": \"Родительских прав мать не лишена. Пока. А в парадном девочка оказалась, потому что дома она мешала матери выпивать.\", \"hypothesis\": \"Дочь мешала маме пить.\", \"label\": \"entailment\", \"idx\": 9}\r\n"
          ],
          "name": "stdout"
        }
      ]
    },
    {
      "cell_type": "code",
      "metadata": {
        "id": "WrymTaJ1-Lu1"
      },
      "source": [
        "class AbstractStep:\n",
        "  def __init__(self):\n",
        "      self.name = \"StepName\"\n",
        "      self.extr = \"StepExtract\"\n",
        "\n",
        "  def parent(cls):\n",
        "      return \"StepExtract\"\n"
      ],
      "execution_count": 42,
      "outputs": []
    },
    {
      "cell_type": "code",
      "metadata": {
        "id": "z3xzaIg2E9k1"
      },
      "source": [
        "import json\n",
        "import os\n",
        "\n",
        "class DataReader(AbstractStep):\n",
        "\n",
        "  file_mapping = {\n",
        "      \"TRAIN\": \"train.jsonl\",\n",
        "      \"TEST\": \"test.jsonl\",\n",
        "      \"VALID\": \"val.jsonl\"\n",
        "  }\n",
        "\n",
        "  def __init__(self, dir_path):\n",
        "      self.train_samples = self.read_file(dir_path, \"TRAIN\")\n",
        "      self.test_samples = self.read_file(dir_path, \"TEST\")\n",
        "      self.valid_samples = self.read_file(dir_path, \"VALID\")\n",
        "\n",
        "  def read_file(self, dir_path, file_name):\n",
        "      file_path = os.path.join(dir_path, self.file_mapping[file_name])\n",
        "      jsonl_content = open(file_path).read()\n",
        "      samples = [json.loads(jline) for jline in jsonl_content.splitlines()]\n",
        "      print(f\"Number of samples - {len(samples)} - in {file_name} dataset \")\n",
        "      return samples"
      ],
      "execution_count": 43,
      "outputs": []
    },
    {
      "cell_type": "code",
      "metadata": {
        "colab": {
          "base_uri": "https://localhost:8080/"
        },
        "id": "_BKhKshxGg7H",
        "outputId": "1f7489a7-dd38-4db2-fc07-eb10a3af8ff2"
      },
      "source": [
        "dr = DataReader(\"drive/MyDrive/TERRa\")"
      ],
      "execution_count": 58,
      "outputs": [
        {
          "output_type": "stream",
          "text": [
            "Number of samples - 2616 - in TRAIN dataset \n",
            "Number of samples - 3198 - in TEST dataset \n",
            "Number of samples - 307 - in VALID dataset \n"
          ],
          "name": "stdout"
        }
      ]
    },
    {
      "cell_type": "code",
      "metadata": {
        "id": "GD-_dELzIj3Z"
      },
      "source": [
        "import pandas as pd\n",
        "\n",
        "\n",
        "class DataProcessor(AbstractStep):\n",
        "\n",
        "  sentence_keys = [\"premise\", \"hypothesis\"]\n",
        "  target_label_key = \"label\"\n",
        "  \n",
        "  sentence_separator = \"\\n\"\n",
        "  dataframe_keys = [\"text\", \"labels\"]\n",
        "\n",
        "  def __init__(self, samples):\n",
        "    self.text_data, self.target_labels = self.prepare_data(samples)\n",
        "\n",
        "  def prepare_data(self, samples):\n",
        "    sentences_pairs = []\n",
        "    labels = []\n",
        "    for indx, sample in enumerate(samples):\n",
        "      assert isinstance(sample, dict), \\\n",
        "       f\"type(sample) should be dict but sample #{indx} is {type(sample)}\"\n",
        "      sentences_pair = []\n",
        "      for sentence_key in self.sentence_keys:\n",
        "        sentences_pair.append(sample[sentence_key])\n",
        "      sentences_pair = self.sentence_separator.join(sentences_pair)\n",
        "      sentences_pairs.append(sentences_pair)\n",
        "      labels.append(sample.get(self.target_label_key))\n",
        "\n",
        "    return sentences_pairs, labels\n",
        "\n",
        "  def to_dataframe(self):\n",
        "    return pd.DataFrame({\n",
        "        self.dataframe_keys[0]: self.text_data,\n",
        "        self.dataframe_keys[1]: self.target_labels,\n",
        "        })\n",
        "        \n"
      ],
      "execution_count": 71,
      "outputs": []
    },
    {
      "cell_type": "code",
      "metadata": {
        "id": "lymWx-05KSV3"
      },
      "source": [
        "dp_train = DataProcessor(dr.train_samples).to_dataframe()\n",
        "dp_valid = DataProcessor(dr.valid_samples).to_dataframe()"
      ],
      "execution_count": 72,
      "outputs": []
    },
    {
      "cell_type": "code",
      "metadata": {
        "colab": {
          "base_uri": "https://localhost:8080/",
          "height": 419
        },
        "id": "cqbwjFQ1Hngq",
        "outputId": "1d0363b6-03d5-4818-9e47-695a43e51512"
      },
      "source": [
        "dp_train"
      ],
      "execution_count": 73,
      "outputs": [
        {
          "output_type": "execute_result",
          "data": {
            "text/html": [
              "<div>\n",
              "<style scoped>\n",
              "    .dataframe tbody tr th:only-of-type {\n",
              "        vertical-align: middle;\n",
              "    }\n",
              "\n",
              "    .dataframe tbody tr th {\n",
              "        vertical-align: top;\n",
              "    }\n",
              "\n",
              "    .dataframe thead th {\n",
              "        text-align: right;\n",
              "    }\n",
              "</style>\n",
              "<table border=\"1\" class=\"dataframe\">\n",
              "  <thead>\n",
              "    <tr style=\"text-align: right;\">\n",
              "      <th></th>\n",
              "      <th>text</th>\n",
              "      <th>labels</th>\n",
              "    </tr>\n",
              "  </thead>\n",
              "  <tbody>\n",
              "    <tr>\n",
              "      <th>0</th>\n",
              "      <td>Женщину доставили в больницу, за ее жизнь сейч...</td>\n",
              "      <td>entailment</td>\n",
              "    </tr>\n",
              "    <tr>\n",
              "      <th>1</th>\n",
              "      <td>Он проводит невидимую грань между настоящим и ...</td>\n",
              "      <td>not_entailment</td>\n",
              "    </tr>\n",
              "    <tr>\n",
              "      <th>2</th>\n",
              "      <td>Мужчина рассказал: детская коляска, принадлежа...</td>\n",
              "      <td>not_entailment</td>\n",
              "    </tr>\n",
              "    <tr>\n",
              "      <th>3</th>\n",
              "      <td>Я просто об этом даже не думаю, потому что есл...</td>\n",
              "      <td>entailment</td>\n",
              "    </tr>\n",
              "    <tr>\n",
              "      <th>4</th>\n",
              "      <td>В ходе проверки нашли дома с наледью и сосульк...</td>\n",
              "      <td>not_entailment</td>\n",
              "    </tr>\n",
              "    <tr>\n",
              "      <th>...</th>\n",
              "      <td>...</td>\n",
              "      <td>...</td>\n",
              "    </tr>\n",
              "    <tr>\n",
              "      <th>2611</th>\n",
              "      <td>Дом по адресу Ленина  63а является нежилым. Во...</td>\n",
              "      <td>not_entailment</td>\n",
              "    </tr>\n",
              "    <tr>\n",
              "      <th>2612</th>\n",
              "      <td>Он сообщил, что после митинга были задержаны, ...</td>\n",
              "      <td>not_entailment</td>\n",
              "    </tr>\n",
              "    <tr>\n",
              "      <th>2613</th>\n",
              "      <td>В результате трамваи в обе стороны встали, и ж...</td>\n",
              "      <td>entailment</td>\n",
              "    </tr>\n",
              "    <tr>\n",
              "      <th>2614</th>\n",
              "      <td>Исследователи отмечают, что такое развитие сит...</td>\n",
              "      <td>entailment</td>\n",
              "    </tr>\n",
              "    <tr>\n",
              "      <th>2615</th>\n",
              "      <td>Суд признал женщину виновной в том, что она пр...</td>\n",
              "      <td>not_entailment</td>\n",
              "    </tr>\n",
              "  </tbody>\n",
              "</table>\n",
              "<p>2616 rows × 2 columns</p>\n",
              "</div>"
            ],
            "text/plain": [
              "                                                   text          labels\n",
              "0     Женщину доставили в больницу, за ее жизнь сейч...      entailment\n",
              "1     Он проводит невидимую грань между настоящим и ...  not_entailment\n",
              "2     Мужчина рассказал: детская коляска, принадлежа...  not_entailment\n",
              "3     Я просто об этом даже не думаю, потому что есл...      entailment\n",
              "4     В ходе проверки нашли дома с наледью и сосульк...  not_entailment\n",
              "...                                                 ...             ...\n",
              "2611  Дом по адресу Ленина  63а является нежилым. Во...  not_entailment\n",
              "2612  Он сообщил, что после митинга были задержаны, ...  not_entailment\n",
              "2613  В результате трамваи в обе стороны встали, и ж...      entailment\n",
              "2614  Исследователи отмечают, что такое развитие сит...      entailment\n",
              "2615  Суд признал женщину виновной в том, что она пр...  not_entailment\n",
              "\n",
              "[2616 rows x 2 columns]"
            ]
          },
          "metadata": {
            "tags": []
          },
          "execution_count": 73
        }
      ]
    },
    {
      "cell_type": "code",
      "metadata": {
        "id": "JPct4fm1J0yb"
      },
      "source": [
        "from sklearn.feature_extraction.text import TfidfVectorizer\n",
        "from sklearn.linear_model import LogisticRegression\n",
        "\n",
        "log_reg = LogisticRegression(solver='liblinear', random_state=17)\n",
        "tf_vectorizer = TfidfVectorizer(ngram_range=(1, 2), max_df=0.95, min_df=2,)"
      ],
      "execution_count": 74,
      "outputs": []
    },
    {
      "cell_type": "code",
      "metadata": {
        "id": "13IzCN3aJ506"
      },
      "source": [
        "from sklearn import metrics\n",
        "from sklearn.metrics import plot_confusion_matrix\n",
        "from ipymarkup import show_span_line_markup\n",
        "import warnings\n",
        "warnings.filterwarnings(\"ignore\")\n",
        "\n",
        "class ModelTrainer:\n",
        "\n",
        "  def __init__(self, featurizer, model):\n",
        "    self.featurizer = featurizer\n",
        "    self.model = model\n",
        "    self.is_fit = False\n",
        "\n",
        "  def fit(self, train_data):\n",
        "    transformed_data = self.featurizer.fit_transform(train_data.text)\n",
        "    print(\"Data was featurized\")\n",
        "    self.model.fit(transformed_data, train_data.labels)\n",
        "    print(\"Model was fitted\")\n",
        "    self.is_fit = True\n",
        "\n",
        "  def valid(self, valid_data):\n",
        "    if self.is_fit:\n",
        "      transformed_data = self.featurizer.transform(valid_data.text)\n",
        "      predicted_labels = self.model.predict(transformed_data)\n",
        "      self.eval_result(predicted_labels, valid_data.labels)\n",
        "      self.vizualize_samples(valid_data, predicted_labels)\n",
        "      print(\"Plot confusion matrix\")\n",
        "      plot_confusion_matrix(self.model, transformed_data, valid_data.labels, normalize='true')\n",
        "    else:\n",
        "      raise ValueError(\"First use method \\\"fit\\\" of ModelTrainer\")\n",
        "\n",
        "  def eval_result(self, predicted_labels, target_labels):\n",
        "    print(\"Classification Report\")\n",
        "    print(metrics.classification_report(target_labels, predicted_labels))\n",
        "\n",
        "  def vizualize_samples(self, valid_data, predicted_labels):\n",
        "      valid_data[\"predicted_labels\"] = predicted_labels\n",
        "      print()\n",
        "      print(\"Prediction samples\")\n",
        "      for indx, row in valid_data.sample(5).iterrows():\n",
        "        sentences = row.text.split(DataProcessor.sentence_separator)\n",
        "        print(f\"Sample #{indx} \\t Target label: {row.labels} \\t Predicted label: {row.predicted_labels}\")"
      ],
      "execution_count": 80,
      "outputs": []
    },
    {
      "cell_type": "code",
      "metadata": {
        "colab": {
          "base_uri": "https://localhost:8080/",
          "height": 620
        },
        "id": "ocBcgOfQKAeP",
        "outputId": "34c6aee3-7db8-446b-8a1a-3d9d074227c7"
      },
      "source": [
        "mt = ModelTrainer(tf_vectorizer, log_reg)\n",
        "mt.fit(dp_train)\n",
        "mt.valid(dp_valid)"
      ],
      "execution_count": 81,
      "outputs": [
        {
          "output_type": "stream",
          "text": [
            "Data was featurized\n",
            "Model was fitted\n",
            "Classification Report\n",
            "                precision    recall  f1-score   support\n",
            "\n",
            "    entailment       0.43      0.52      0.47       153\n",
            "not_entailment       0.40      0.31      0.35       154\n",
            "\n",
            "      accuracy                           0.42       307\n",
            "     macro avg       0.41      0.42      0.41       307\n",
            "  weighted avg       0.41      0.42      0.41       307\n",
            "\n",
            "\n",
            "Prediction samples\n",
            "Sample #92 \t Target label: entailment \t Predicted label: entailment\n",
            "Sample #90 \t Target label: entailment \t Predicted label: entailment\n",
            "Sample #263 \t Target label: entailment \t Predicted label: entailment\n",
            "Sample #287 \t Target label: entailment \t Predicted label: not_entailment\n",
            "Sample #188 \t Target label: not_entailment \t Predicted label: not_entailment\n",
            "Plot confusion matrix\n"
          ],
          "name": "stdout"
        },
        {
          "output_type": "display_data",
          "data": {
            "image/png": "[encoded data removed]",
            "text/plain": [
              "<Figure size 432x288 with 2 Axes>"
            ]
          },
          "metadata": {
            "tags": [],
            "needs_background": "light"
          }
        }
      ]
    }
  ]
}